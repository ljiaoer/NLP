{
 "cells": [
  {
   "cell_type": "code",
   "execution_count": 41,
   "metadata": {},
   "outputs": [
    {
     "ename": "SyntaxError",
     "evalue": "invalid syntax (<ipython-input-41-108236f85d2f>, line 26)",
     "output_type": "error",
     "traceback": [
      "\u001b[1;36m  File \u001b[1;32m\"<ipython-input-41-108236f85d2f>\"\u001b[1;36m, line \u001b[1;32m26\u001b[0m\n\u001b[1;33m    python -m spacy download en\u001b[0m\n\u001b[1;37m              ^\u001b[0m\n\u001b[1;31mSyntaxError\u001b[0m\u001b[1;31m:\u001b[0m invalid syntax\n"
     ]
    }
   ],
   "source": [
    "import nltk\n",
    "import ssl\n",
    "try:\n",
    "    _create_unverified_https_context = ssl._create_unverified_context\n",
    "except AttributeError:\n",
    "    pass\n",
    "else:\n",
    "    ssl._create_default_https_context = _create_unverified_https_context\n",
    "nltk.download('stopwords')\n",
    "from nltk.corpus import stopwords\n",
    "\n",
    "import pandas as pd\n",
    "import re\n",
    "import numpy as np\n",
    "# import spacy\n",
    "from pprint import pprint\n",
    "\n",
    "# Gensim\n",
    "import gensim\n",
    "import gensim.corpora as corpora\n",
    "from gensim.utils import simple_preprocess\n",
    "from gensim.models import CoherenceModel\n",
    "\n",
    "# spacy for lemmatization\n",
    "import spacy\n",
    "\n",
    "\n",
    "\n",
    "# Plotting tools\n",
    "import pyLDAvis\n",
    "import pyLDAvis.gensim_models  # don't skip this\n",
    "import matplotlib.pyplot as plt\n",
    "%matplotlib inline\n",
    "\n",
    "# Enable logging for gensim - optional\n",
    "import logging\n",
    "logging.basicConfig(format='%(asctime)s : %(levelname)s : %(message)s', level=logging.ERROR)\n",
    "\n",
    "import warnings\n",
    "warnings.filterwarnings(\"ignore\",category=DeprecationWarning)"
   ]
  },
  {
   "cell_type": "code",
   "execution_count": 5,
   "metadata": {},
   "outputs": [
    {
     "name": "stdout",
     "output_type": "stream",
     "text": [
      "Loading dataset...\n",
      "done in 0.106s.\n"
     ]
    }
   ],
   "source": [
    "from time import time\n",
    "print(\"Loading dataset...\")\n",
    "t0 = time()\n",
    "\n",
    "a=0 \n",
    "b=0\n",
    "c=0\n",
    "data=[]\n",
    "date_year=[]\n",
    "data_ab=[]\n",
    "f=open(\"savedrecs.txt\",\"r\",encoding='utf-8')\n",
    "f.readline()\n",
    "for line in f:\n",
    "    #print (line.startswith('AB'))K1TI\n",
    "    if line.startswith('TI') == True :\n",
    "        if len(line.lstrip('TI').strip())>0:\n",
    "            A=line.lstrip('TI').strip()\n",
    "            a=1\n",
    "            \n",
    "    if line.startswith('PY') == True :\n",
    "        if len(line.lstrip('PY').strip())>0:\n",
    "            B=line.lstrip('PY').strip()\n",
    "            b=2\n",
    "            \n",
    "    if line.startswith('AB') == True :\n",
    "        if len(line.lstrip('AB').strip())>0:\n",
    "            C=line.lstrip('AB').strip() \n",
    "            c=3\n",
    "\n",
    "    if a==1 and b==2 and c==3:\n",
    "        data.append(A) \n",
    "        date_year.append(B) \n",
    "        data_ab.append(C)     \n",
    "        a=0\n",
    "        b=0\n",
    "        c=0\n",
    "        \n",
    "print(\"done in %0.3fs.\" % (time() - t0))\n"
   ]
  },
  {
   "cell_type": "code",
   "execution_count": 6,
   "metadata": {},
   "outputs": [
    {
     "name": "stdout",
     "output_type": "stream",
     "text": [
      "993\n"
     ]
    }
   ],
   "source": [
    "print(len(data_ab))"
   ]
  },
  {
   "cell_type": "code",
   "execution_count": 7,
   "metadata": {},
   "outputs": [
    {
     "name": "stdout",
     "output_type": "stream",
     "text": [
      "993\n"
     ]
    }
   ],
   "source": [
    "print(len( date_year))"
   ]
  },
  {
   "cell_type": "code",
   "execution_count": 9,
   "metadata": {},
   "outputs": [
    {
     "name": "stdout",
     "output_type": "stream",
     "text": [
      "993\n"
     ]
    }
   ],
   "source": [
    "print(len(data))"
   ]
  },
  {
   "cell_type": "code",
   "execution_count": 10,
   "metadata": {
    "scrolled": true
   },
   "outputs": [
    {
     "name": "stdout",
     "output_type": "stream",
     "text": [
      "                                                 title  year  \\\n",
      "0    A survey of machine learning for big data proc...  2016   \n",
      "1    Deep Learning for Intelligent Wireless Network...  2018   \n",
      "2    Learning Hierarchical Features for Scene Labeling  2013   \n",
      "3    Autonomous Structural Visual Inspection Using ...  2018   \n",
      "4    Remote Sensing Image Fusion With Deep Convolut...  2018   \n",
      "..                                                 ...   ...   \n",
      "988  Deep learning model for real-time image compre...  2017   \n",
      "989  Towards automatic pulmonary nodule management ...  2020   \n",
      "990  Deep-learning-assisted diagnosis for knee magn...  2017   \n",
      "991  A Second-Order Multi-Agent Network for Bound-C...  2018   \n",
      "992  NetSurfP-2.0: Improved prediction of protein s...  2015   \n",
      "\n",
      "                                              abstract  \n",
      "0    There is no doubt that big data are now rapidl...  \n",
      "1    As a promising machine learning tool to handle...  \n",
      "2    Scene labeling consists of labeling each pixel...  \n",
      "3    Computer vision-based techniques were develope...  \n",
      "4    Remote sensing images with different spatial a...  \n",
      "..                                                 ...  \n",
      "988  Recently, the advancements of Internet-of-Thin...  \n",
      "989  The introduction of lung cancer screening prog...  \n",
      "990                                         Background  \n",
      "991  This technical note presents a second-order mu...  \n",
      "992  The ability to predict local structural featur...  \n",
      "\n",
      "[993 rows x 3 columns]\n"
     ]
    }
   ],
   "source": [
    "from pandas.core.frame import DataFrame\n",
    "#列表b\n",
    "c={\"title\" : data,\n",
    "   \"year\" : date_year,\n",
    "  \"abstract\" : data_ab}#将列表a，b转换成字典\n",
    "DATA=DataFrame(c)#将字典转换成为数据框\n",
    "print(DATA)\n"
   ]
  },
  {
   "cell_type": "code",
   "execution_count": 188,
   "metadata": {},
   "outputs": [],
   "source": [
    "documents=list(DATA['title'])"
   ]
  },
  {
   "cell_type": "code",
   "execution_count": 189,
   "metadata": {},
   "outputs": [],
   "source": [
    "# documents"
   ]
  },
  {
   "cell_type": "code",
   "execution_count": 190,
   "metadata": {},
   "outputs": [],
   "source": [
    "time=DATA['year']\n",
    "DATA['year']=time.str.slice(0,4) "
   ]
  },
  {
   "cell_type": "code",
   "execution_count": 191,
   "metadata": {},
   "outputs": [
    {
     "name": "stdout",
     "output_type": "stream",
     "text": [
      "0      2016\n",
      "1      2018\n",
      "2      2013\n",
      "3      2018\n",
      "4      2018\n",
      "       ... \n",
      "988    2017\n",
      "989    2020\n",
      "990    2017\n",
      "991    2018\n",
      "992    2015\n",
      "Name: year, Length: 993, dtype: object\n"
     ]
    }
   ],
   "source": [
    "print(DATA['year'])"
   ]
  },
  {
   "cell_type": "code",
   "execution_count": 192,
   "metadata": {},
   "outputs": [],
   "source": [
    "time_stamps=np.arange(int(DATA.year.min(axis=0)),int(DATA.year.max(axis=0))+1,1)\n",
    "time_stamps=list(time_stamps)\n",
    "\n",
    "\n",
    "# find out the time slice\n",
    "gp=DATA.groupby(by=['year'])\n",
    "total_yearly_list=list(gp.size())"
   ]
  },
  {
   "cell_type": "code",
   "execution_count": 193,
   "metadata": {},
   "outputs": [
    {
     "name": "stdout",
     "output_type": "stream",
     "text": [
      "[2011, 2012, 2013, 2014, 2015, 2016, 2017, 2018, 2019, 2020, 2021]\n",
      "[15, 13, 29, 30, 45, 54, 104, 203, 201, 207, 92]\n"
     ]
    }
   ],
   "source": [
    "print(time_stamps)\n",
    "print(total_yearly_list)"
   ]
  },
  {
   "cell_type": "code",
   "execution_count": 194,
   "metadata": {},
   "outputs": [],
   "source": [
    "stoplist=stopwords\n",
    "#nlp = spacy.load('en')\n",
    "\n",
    "nlp = spacy.load('en_core_web_sm')\n",
    "\n",
    "# doc = nlp(\"Wall Street Journal just published an interesting piece on crypto currencies\")\n",
    "# for chunk in doc.noun_chunks:\n",
    "#     print(chunk.text, chunk.label_, chunk.root.text)\n",
    "\n",
    "stoplist = set('for a an of the with on and to in at from as by about is was where that = or were this their are we be through - re its it'.split())\n",
    "\n",
    "texts = []\n",
    "for document in documents:\n",
    "    text = [word.text for word in nlp(document.lower()).noun_chunks if word not in stoplist]\n",
    "    texts.append(text)"
   ]
  },
  {
   "cell_type": "code",
   "execution_count": 196,
   "metadata": {},
   "outputs": [
    {
     "name": "stdout",
     "output_type": "stream",
     "text": [
      "Dictionary(188 unique tokens: ['a survey', 'a comprehensive survey', 'deep learning', 'deep convolutional neural network', 'face recognition']...)\n"
     ]
    }
   ],
   "source": [
    "import os\n",
    "from collections import  defaultdict\n",
    "# drop the words only appers once\n",
    "frequency = defaultdict(int)\n",
    "for text in texts:\n",
    "    for token in text:\n",
    "        frequency[token] += 1\n",
    "texts = [[token for token in text if frequency[token] > 1]\n",
    "         for text in texts]\n",
    "\n",
    "dictionary = corpora.Dictionary(texts)   # generate the dictionary\n",
    "dictionary.compactify() #\n",
    "\n",
    "dictionary.save(os.path.join('dictionary.dict')) # store the dictionary, for future reference\n",
    "print(dictionary)\n"
   ]
  },
  {
   "cell_type": "code",
   "execution_count": 197,
   "metadata": {
    "scrolled": true
   },
   "outputs": [
    {
     "name": "stdout",
     "output_type": "stream",
     "text": [
      "a survey\n",
      "a comprehensive survey\n",
      "deep learning\n",
      "deep convolutional neural network\n",
      "face recognition\n",
      "genomics\n",
      "applications\n",
      "artificial intelligence\n",
      "covid-19\n",
      "-\n",
      "identification\n",
      "re\n",
      "its\n",
      "machine learning\n",
      "approaches\n",
      "trends\n",
      "deep convolutional neural networks\n",
      "the use\n",
      "deep learning approaches\n",
      "extreme learning machine\n",
      "machine\n",
      "a review\n",
      "big data\n",
      "healthcare\n",
      "medicine\n",
      "opportunities\n",
      "neural networks\n",
      "the future\n",
      "land\n",
      "urban land use\n",
      "attention\n",
      "computer vision\n",
      "convolutional neural\n",
      "an overview\n",
      "hyperspectral image classification\n",
      "immersive virtual reality\n",
      "survey\n",
      "use\n",
      "communications\n",
      "detection\n",
      "development\n",
      "validation\n",
      "research\n",
      "ucsf chimerax\n",
      "a deep learning approach\n",
      "evaluation\n",
      "the prediction\n",
      "convolutional neural networks\n",
      "online reviews\n",
      "classification\n",
      "fault diagnosis\n",
      "transfer\n",
      "prediction\n",
      "deep convolutional networks\n",
      "it\n",
      "models\n",
      "application\n",
      "wireless networks\n",
      "uav\n",
      "assessment\n",
      "the-art\n",
      "the accuracy\n",
      "presence\n",
      "virtual reality\n",
      "face\n",
      "artificial intelligence and machine learning\n",
      "radiology\n",
      "algorithms\n",
      "reinforcement learning\n",
      "a single image\n",
      "removal\n",
      "training\n",
      "what\n",
      "face detection\n",
      "a hybrid model\n",
      "long short-term memory networks\n",
      "a brief review\n",
      "deep neural\n",
      "quantum many-body states\n",
      "deep learning networks\n",
      "deep learning methods\n",
      "land cover\n",
      "atrial fibrillation\n",
      "fault\n",
      "the detection\n",
      "classification algorithms\n",
      "factors\n",
      "virtual reality sickness\n",
      "the effects\n",
      "video\n",
      "big data analytics\n",
      "internet\n",
      "things\n",
      "deep reinforcement learning\n",
      "long short-term memory neural network\n",
      "time series analysis\n",
      "hyperspectral image\n",
      "adaptive sliding mode control\n",
      "ground\n",
      "machine learning approaches\n",
      "modeling\n",
      "engineering\n",
      "convolutional neural network\n",
      "machine learning methods\n",
      "anomaly detection\n",
      "domain adaptation\n",
      "mri\n",
      "health monitoring\n",
      "the art\n",
      "the state\n",
      "6g\n",
      "the role\n",
      "visual recognition\n",
      "chest\n",
      "diagnosis\n",
      "algorithm\n",
      "ct images\n",
      "vision\n",
      "multimodal\n",
      "-demand\n",
      "data\n",
      "deep neural networks\n",
      "federated learning\n",
      "perspectives\n",
      "challenges\n",
      "image\n",
      "plant stress\n",
      "tourism\n",
      "fluorescence\n",
      "edge\n",
      "the era\n",
      "future\n",
      "uav images\n",
      "a learning framework\n",
      "deep learning models\n",
      "image retrieval\n",
      "time-varying formation control\n",
      "unmanned aerial vehicles\n",
      "ann\n",
      "image annotation\n",
      "the impact\n",
      "methods\n",
      "coronavirus\n",
      "sentiment analysis\n",
      "a quadrotor\n",
      "classification performance\n",
      "radiomics\n",
      "3d\n",
      "review\n",
      "a novel artificial intelligence approach\n",
      "machine learning algorithms\n",
      "modelling\n",
      "spectral-spatial classification\n",
      "parts\n",
      "recurrent neural networks\n",
      "object detection\n",
      "intelligent fault diagnosis\n",
      "a tutorial\n",
      "feature selection\n",
      "neural network\n",
      "unmanned aerial vehicle\n",
      "machine learning models\n",
      "unmanned aerial\n",
      "the age\n",
      "memory\n",
      "image segmentation\n",
      "a comparative study\n",
      "remote sensing image scene classification\n",
      "a comparative assessment\n",
      "flash flood\n",
      "uavs\n",
      "sparsity\n",
      "action recognition\n",
      "decision making\n",
      "ultimate bearing capacity\n",
      "facial expression recognition\n",
      "optimization\n",
      "motion\n",
      "estimation\n",
      "neuroscience\n",
      "network\n",
      "state\n",
      "structure\n",
      "ship detection\n",
      "a unified framework\n",
      "rolling bearing\n",
      "materials\n",
      "systematic review\n",
      "<_io.TextIOWrapper name='vocabulary.dat' mode='w' encoding='utf-8'>\n"
     ]
    }
   ],
   "source": [
    "import os\n",
    "#Save vocabulary\n",
    "vocFile = open(os.path.join( 'vocabulary.dat'),'w',encoding='utf-8')\n",
    "for word in dictionary.values():\n",
    "    print(word)\n",
    "    vocFile.write(word+'\\n')\n",
    "vocFile.close()\n",
    "print(vocFile)\n"
   ]
  },
  {
   "cell_type": "code",
   "execution_count": 198,
   "metadata": {
    "scrolled": true
   },
   "outputs": [
    {
     "name": "stdout",
     "output_type": "stream",
     "text": [
      "<_io.TextIOWrapper name='foo-mult.dat' mode='w' encoding='cp936'>\n"
     ]
    }
   ],
   "source": [
    "#Prevent storing the words of each document in the RAM\n",
    "class MyCorpus(object):\n",
    "     def __iter__(self):\n",
    "         \n",
    "         for text in texts:\n",
    "\n",
    "            yield dictionary.doc2bow(text)\n",
    "            \n",
    "\n",
    "corpus_memory_friendly = MyCorpus()\n",
    "\n",
    "multFile = open(os.path.join( 'foo-mult.dat'),'w')\n",
    "\n",
    "for vector in corpus_memory_friendly: # load one vector into memory at a time\n",
    "    multFile.write(str(len(vector)) + ' ')\n",
    "    for (wordID, weigth) in vector:\n",
    "        multFile.write(str(wordID) + ':' + str(weigth) + ' ')\n",
    "\n",
    "    multFile.write('\\n')\n",
    "    \n",
    "multFile.close()\n",
    "\n",
    "print(multFile)\n",
    "\n"
   ]
  },
  {
   "cell_type": "code",
   "execution_count": 199,
   "metadata": {},
   "outputs": [
    {
     "name": "stdout",
     "output_type": "stream",
     "text": [
      "<class '_io.TextIOWrapper'>\n"
     ]
    }
   ],
   "source": [
    "print(type(vocFile))"
   ]
  },
  {
   "cell_type": "code",
   "execution_count": 200,
   "metadata": {
    "scrolled": true
   },
   "outputs": [
    {
     "name": "stdout",
     "output_type": "stream",
     "text": [
      "[15, 13, 29, 30, 45, 54, 104, 203, 201, 207, 92]\n"
     ]
    }
   ],
   "source": [
    "time_slice=total_yearly_list\n",
    "print(time_slice)"
   ]
  },
  {
   "cell_type": "code",
   "execution_count": 201,
   "metadata": {},
   "outputs": [
    {
     "name": "stdout",
     "output_type": "stream",
     "text": [
      "<class '__main__.MyCorpus'>\n"
     ]
    }
   ],
   "source": [
    "print(type(corpus_memory_friendly))"
   ]
  },
  {
   "cell_type": "code",
   "execution_count": 202,
   "metadata": {},
   "outputs": [
    {
     "name": "stdout",
     "output_type": "stream",
     "text": [
      "Dictionary(188 unique tokens: ['a survey', 'a comprehensive survey', 'deep learning', 'deep convolutional neural network', 'face recognition']...)\n"
     ]
    }
   ],
   "source": [
    "print(dictionary)"
   ]
  },
  {
   "cell_type": "code",
   "execution_count": 203,
   "metadata": {
    "scrolled": true
   },
   "outputs": [
    {
     "name": "stderr",
     "output_type": "stream",
     "text": [
      "D:\\software\\Anaconda3\\lib\\site-packages\\gensim\\models\\ldaseqmodel.py:1478: RuntimeWarning: invalid value encountered in double_scalars\n",
      "  converged = np.fabs((lhood_old - lhood) / (lhood_old * total))\n",
      "D:\\software\\Anaconda3\\lib\\site-packages\\gensim\\models\\ldaseqmodel.py:297: RuntimeWarning: divide by zero encountered in double_scalars\n",
      "  convergence = np.fabs((bound - old_bound) / old_bound)\n",
      "D:\\software\\Anaconda3\\lib\\site-packages\\gensim\\models\\ldaseqmodel.py:1478: RuntimeWarning: invalid value encountered in double_scalars\n",
      "  converged = np.fabs((lhood_old - lhood) / (lhood_old * total))\n",
      "D:\\software\\Anaconda3\\lib\\site-packages\\gensim\\models\\ldaseqmodel.py:1478: RuntimeWarning: invalid value encountered in double_scalars\n",
      "  converged = np.fabs((lhood_old - lhood) / (lhood_old * total))\n",
      "D:\\software\\Anaconda3\\lib\\site-packages\\gensim\\models\\ldaseqmodel.py:1478: RuntimeWarning: invalid value encountered in double_scalars\n",
      "  converged = np.fabs((lhood_old - lhood) / (lhood_old * total))\n",
      "D:\\software\\Anaconda3\\lib\\site-packages\\gensim\\models\\ldaseqmodel.py:1478: RuntimeWarning: invalid value encountered in double_scalars\n",
      "  converged = np.fabs((lhood_old - lhood) / (lhood_old * total))\n",
      "D:\\software\\Anaconda3\\lib\\site-packages\\gensim\\models\\ldaseqmodel.py:1478: RuntimeWarning: invalid value encountered in double_scalars\n",
      "  converged = np.fabs((lhood_old - lhood) / (lhood_old * total))\n",
      "D:\\software\\Anaconda3\\lib\\site-packages\\gensim\\models\\ldaseqmodel.py:1478: RuntimeWarning: invalid value encountered in double_scalars\n",
      "  converged = np.fabs((lhood_old - lhood) / (lhood_old * total))\n",
      "D:\\software\\Anaconda3\\lib\\site-packages\\gensim\\models\\ldaseqmodel.py:1478: RuntimeWarning: invalid value encountered in double_scalars\n",
      "  converged = np.fabs((lhood_old - lhood) / (lhood_old * total))\n",
      "D:\\software\\Anaconda3\\lib\\site-packages\\gensim\\models\\ldaseqmodel.py:1478: RuntimeWarning: invalid value encountered in double_scalars\n",
      "  converged = np.fabs((lhood_old - lhood) / (lhood_old * total))\n",
      "D:\\software\\Anaconda3\\lib\\site-packages\\gensim\\models\\ldaseqmodel.py:1478: RuntimeWarning: invalid value encountered in double_scalars\n",
      "  converged = np.fabs((lhood_old - lhood) / (lhood_old * total))\n",
      "D:\\software\\Anaconda3\\lib\\site-packages\\gensim\\models\\ldaseqmodel.py:1478: RuntimeWarning: invalid value encountered in double_scalars\n",
      "  converged = np.fabs((lhood_old - lhood) / (lhood_old * total))\n",
      "D:\\software\\Anaconda3\\lib\\site-packages\\gensim\\models\\ldaseqmodel.py:1478: RuntimeWarning: invalid value encountered in double_scalars\n",
      "  converged = np.fabs((lhood_old - lhood) / (lhood_old * total))\n",
      "D:\\software\\Anaconda3\\lib\\site-packages\\gensim\\models\\ldaseqmodel.py:1478: RuntimeWarning: invalid value encountered in double_scalars\n",
      "  converged = np.fabs((lhood_old - lhood) / (lhood_old * total))\n",
      "D:\\software\\Anaconda3\\lib\\site-packages\\gensim\\models\\ldaseqmodel.py:1478: RuntimeWarning: invalid value encountered in double_scalars\n",
      "  converged = np.fabs((lhood_old - lhood) / (lhood_old * total))\n",
      "D:\\software\\Anaconda3\\lib\\site-packages\\gensim\\models\\ldaseqmodel.py:1478: RuntimeWarning: invalid value encountered in double_scalars\n",
      "  converged = np.fabs((lhood_old - lhood) / (lhood_old * total))\n",
      "D:\\software\\Anaconda3\\lib\\site-packages\\gensim\\models\\ldaseqmodel.py:1478: RuntimeWarning: invalid value encountered in double_scalars\n",
      "  converged = np.fabs((lhood_old - lhood) / (lhood_old * total))\n",
      "D:\\software\\Anaconda3\\lib\\site-packages\\gensim\\models\\ldaseqmodel.py:1478: RuntimeWarning: invalid value encountered in double_scalars\n",
      "  converged = np.fabs((lhood_old - lhood) / (lhood_old * total))\n"
     ]
    },
    {
     "data": {
      "text/plain": [
       "[[('deep neural networks', 0.18210788861049795),\n",
       "  ('uav', 0.10852909904321323),\n",
       "  ('computer vision', 0.10756360056314117),\n",
       "  ('what', 0.06913248305237393),\n",
       "  ('spectral-spatial classification', 0.06829277907200741),\n",
       "  ('edge', 0.04983786604097399),\n",
       "  ('ship detection', 0.04965154174522185),\n",
       "  ('multimodal', 0.015171445499828608),\n",
       "  ('a survey', 0.014253040154247259),\n",
       "  ('virtual reality', 0.010583834413099425),\n",
       "  ('face recognition', 0.010583834413099416),\n",
       "  ('the effects', 0.010583834413099416),\n",
       "  ('flash flood', 0.010543144032017424),\n",
       "  ('a comparative assessment', 0.010543144032017424),\n",
       "  ('-demand', 0.009811352046587807),\n",
       "  ('presence', 0.005973249742079169),\n",
       "  ('algorithms', 0.005973249742079169),\n",
       "  ('hyperspectral image', 0.005973249742079169),\n",
       "  ('optimization', 0.005973249742079169),\n",
       "  ('it', 0.005973249742079169)],\n",
       " [('artificial intelligence', 0.3105176426691252),\n",
       "  ('fault diagnosis', 0.05363983668825081),\n",
       "  ('deep learning approaches', 0.021508988815347296),\n",
       "  ('ground', 0.021452091081491115),\n",
       "  ('application', 0.021395251658645947),\n",
       "  ('convolutional neural network', 0.021395251658645947),\n",
       "  ('mri', 0.021182981967207686),\n",
       "  ('covid-19', 0.016023586807830646),\n",
       "  ('modeling', 0.015071868397883294),\n",
       "  ('big data analytics', 0.015071863137016774),\n",
       "  ('anomaly detection', 0.015071855039062745),\n",
       "  ('machine learning approaches', 0.015014775162723417),\n",
       "  ('decision making', 0.015014775162723417),\n",
       "  ('coronavirus', 0.015014775162723417),\n",
       "  ('adaptive sliding mode control', 0.015014775162723405),\n",
       "  ('the age', 0.014936767308592369),\n",
       "  ('a survey', 0.01275060697157595),\n",
       "  ('the era', 0.008603021773373794),\n",
       "  ('big data', 0.008603021773373794),\n",
       "  ('state', 0.008603021773373788)],\n",
       " [('convolutional neural networks', 0.09684082443865413),\n",
       "  ('development', 0.08286740182075972),\n",
       "  ('deep reinforcement learning', 0.06690381011094078),\n",
       "  ('recurrent neural networks', 0.06646543622368675),\n",
       "  ('immersive virtual reality', 0.05507943623756073),\n",
       "  ('the role', 0.052897440502834556),\n",
       "  ('object detection', 0.05257227490463199),\n",
       "  ('engineering', 0.03908908618545718),\n",
       "  ('materials', 0.03852833992788411),\n",
       "  ('validation', 0.014884114750478168),\n",
       "  ('a survey', 0.011911622092119645),\n",
       "  ('removal', 0.0105098459090912),\n",
       "  ('survey', 0.0105098459090912),\n",
       "  ('visual recognition', 0.0105098459090912),\n",
       "  ('long short-term memory neural network', 0.0105098459090912),\n",
       "  ('machine learning algorithms', 0.01050983211829347),\n",
       "  ('a single image', 0.010470704307969298),\n",
       "  ('ucsf chimerax', 0.010470704307969298),\n",
       "  ('neural network', 0.010470704307969298),\n",
       "  ('the era', 0.010470704307969298)],\n",
       " [('a review', 0.3296230761375781),\n",
       "  ('-', 0.1017947721035691),\n",
       "  ('re', 0.06241683009607556),\n",
       "  ('identification', 0.061227855563884714),\n",
       "  ('diagnosis', 0.05818048357005825),\n",
       "  ('its', 0.046697892920295005),\n",
       "  ('tourism', 0.033963344350434334),\n",
       "  ('algorithms', 0.010228590634558173),\n",
       "  ('a survey', 0.01006489145632443),\n",
       "  ('future', 0.00901245263710377),\n",
       "  ('virtual reality sickness', 0.007203798719170631),\n",
       "  ('the impact', 0.007203798719170631),\n",
       "  ('chest', 0.007203798719170631),\n",
       "  ('plant stress', 0.007203786179341517),\n",
       "  ('sentiment analysis', 0.007104551172154026),\n",
       "  ('big data', 0.005368622258949),\n",
       "  ('video', 0.005128128079658042),\n",
       "  ('factors', 0.005128114417974448),\n",
       "  ('covid-19', 0.004484942719207515),\n",
       "  ('presence', 0.004217872383406975)],\n",
       " [('classification', 0.3037863662394031),\n",
       "  ('prediction', 0.15065140775948538),\n",
       "  ('hyperspectral image', 0.09268872947112623),\n",
       "  ('covid-19', 0.09134288289432145),\n",
       "  ('machine learning methods', 0.07869430178964368),\n",
       "  ('motion', 0.03644789754670529),\n",
       "  ('structure', 0.03644762594326827),\n",
       "  ('a survey', 0.01024833432243887),\n",
       "  ('the future', 0.00784099126015),\n",
       "  ('attention', 0.00784099126015),\n",
       "  ('applications', 0.005540643080545765),\n",
       "  ('a tutorial', 0.005520062712721799),\n",
       "  ('quantum many-body states', 0.005520062712721799),\n",
       "  ('estimation', 0.005520047223398274),\n",
       "  ('deep learning networks', 0.005491943436064195),\n",
       "  ('6g', 0.005443229934533365),\n",
       "  ('deep neural', 0.0032085955889109264),\n",
       "  ('-', 0.0017987235707576695),\n",
       "  ('sentiment analysis', 0.0009546701902499127),\n",
       "  ('machine', 0.0009412787382749205)],\n",
       " [('a survey', 0.3352508922959578),\n",
       "  ('machine', 0.20551569521791074),\n",
       "  ('a deep learning approach', 0.07749348223781367),\n",
       "  ('things', 0.0527119902368719),\n",
       "  ('internet', 0.05244020467635572),\n",
       "  ('a comprehensive survey', 0.009084310213950075),\n",
       "  ('unmanned aerial vehicles', 0.008825432304890897),\n",
       "  ('research', 0.008599958625928505),\n",
       "  ('image', 0.006277650289629854),\n",
       "  ('applications', 0.006277648353812065),\n",
       "  ('systematic review', 0.006277643695752999),\n",
       "  ('deep neural', 0.006266607190495929),\n",
       "  ('time-varying formation control', 0.0062548534094907715),\n",
       "  ('radiomics', 0.0062548534094907715),\n",
       "  ('a quadrotor', 0.006254846755514255),\n",
       "  ('deep learning methods', 0.0036950493209613744),\n",
       "  ('uavs', 0.0036950493209613714),\n",
       "  ('reinforcement learning', 0.0036950493209613714),\n",
       "  ('ground', 0.0036950493209613714),\n",
       "  ('survey', 0.0036950493209613644)],\n",
       " [('deep learning', 0.8128571406331498),\n",
       "  ('medicine', 0.06263677916742329),\n",
       "  ('image segmentation', 0.038419244106736916),\n",
       "  ('unmanned aerial vehicle', 0.027519107721517628),\n",
       "  ('a survey', 0.00633846529755968),\n",
       "  ('the detection', 0.0016156076805984329),\n",
       "  ('prediction', 0.001160810661050829),\n",
       "  ('fluorescence', 0.001156741511517352),\n",
       "  ('vision', 0.0011567415115173502),\n",
       "  ('a comprehensive survey', 0.0011567415115173502),\n",
       "  ('internet', 0.0007308071802375729),\n",
       "  ('applications', 0.0007054671536333325),\n",
       "  ('-', 0.0006957854745732454),\n",
       "  ('opportunities', 0.0006957854745732454),\n",
       "  ('a brief review', 0.0006957854745732454),\n",
       "  ('estimation', 0.000695785474573244),\n",
       "  ('use', 0.000695785474573244),\n",
       "  ('face', 0.000695785474573244),\n",
       "  ('chest', 0.0006957848042371876),\n",
       "  ('artificial intelligence', 0.0006475638975894747)],\n",
       " [('machine learning', 0.3199144057328036),\n",
       "  ('a comprehensive survey', 0.07990770991365728),\n",
       "  ('uav images', 0.04585466221045479),\n",
       "  ('deep learning', 0.020341071391996767),\n",
       "  ('a survey', 0.013961007209571675),\n",
       "  ('federated learning', 0.013803139898059633),\n",
       "  ('wireless networks', 0.013803139898059633),\n",
       "  ('urban land use', 0.01380313989805962),\n",
       "  ('detection', 0.013803135297851848),\n",
       "  ('radiology', 0.01375046860409553),\n",
       "  ('deep convolutional neural network', 0.013750468604095518),\n",
       "  ('image annotation', 0.013750468604095518),\n",
       "  ('applications', 0.013678508597583357),\n",
       "  ('trends', 0.013562707760868311),\n",
       "  ('3d', 0.012577612819519822),\n",
       "  ('feature selection', 0.012267006625345274),\n",
       "  ('land', 0.01140329500797034),\n",
       "  ('future', 0.010210326029089846),\n",
       "  ('perspectives', 0.007835164504056398),\n",
       "  ('application', 0.007835164504056398)],\n",
       " [('applications', 0.22151093412410006),\n",
       "  ('the use', 0.12074198304935974),\n",
       "  ('evaluation', 0.10042199814893193),\n",
       "  ('a unified framework', 0.04653157265664244),\n",
       "  ('algorithm', 0.025958120552256648),\n",
       "  ('models', 0.01792776450635991),\n",
       "  ('unmanned aerial', 0.01785650327309481),\n",
       "  ('a learning framework', 0.017809042682592136),\n",
       "  ('ct images', 0.01775922565828755),\n",
       "  ('data', 0.01759065260801101),\n",
       "  ('memory', 0.01627037183235919),\n",
       "  ('a survey', 0.014101142326042183),\n",
       "  ('land cover', 0.013510176334741462),\n",
       "  ('land', 0.013114060894356674),\n",
       "  ('classification performance', 0.009855740119513973),\n",
       "  ('it', 0.009855740119513965),\n",
       "  ('computer vision', 0.009855740119513965),\n",
       "  ('face', 0.009855740119513947),\n",
       "  ('deep learning', 0.0075187394711380565),\n",
       "  ('-demand', 0.0030440652959769013)],\n",
       " [('hyperspectral image classification', 0.1281793011849855),\n",
       "  ('state', 0.10180112005561749),\n",
       "  ('artificial intelligence and machine learning', 0.06944426826403739),\n",
       "  ('fault', 0.06873381897917989),\n",
       "  ('intelligent fault diagnosis', 0.06741224359904584),\n",
       "  ('a novel artificial intelligence approach', 0.049384446127084675),\n",
       "  ('rolling bearing', 0.04914314226775277),\n",
       "  ('reinforcement learning', 0.019394505409668483),\n",
       "  ('a survey', 0.014609763941735297),\n",
       "  ('machine learning models', 0.013541843859747828),\n",
       "  ('ann', 0.013541843859747804),\n",
       "  ('genomics', 0.013541836698044705),\n",
       "  ('online reviews', 0.01348946969095058),\n",
       "  ('the accuracy', 0.013489469690950568),\n",
       "  ('remote sensing image scene classification', 0.013489469690950568),\n",
       "  ('the prediction', 0.013489469690950558),\n",
       "  ('an overview', 0.013489467546598456),\n",
       "  ('face detection', 0.013489462402457835),\n",
       "  ('classification performance', 0.007607258173082276),\n",
       "  ('radiology', 0.007607258173082276)],\n",
       " [('neural networks', 0.16937107416600977),\n",
       "  ('deep convolutional neural networks', 0.14767154021080303),\n",
       "  ('the-art', 0.10979481343636399),\n",
       "  ('assessment', 0.0942289176885274),\n",
       "  ('methods', 0.09236759559145202),\n",
       "  ('transfer', 0.07755772691327027),\n",
       "  ('review', 0.058871124107555496),\n",
       "  ('a survey', 0.012087682477448587),\n",
       "  ('extreme learning machine', 0.008445649882667512),\n",
       "  ('communications', 0.005978853853049654),\n",
       "  ('applications', 0.005978853853049654),\n",
       "  ('deep convolutional networks', 0.005956780953388022),\n",
       "  ('training', 0.005956780953388022),\n",
       "  ('atrial fibrillation', 0.005956780953388022),\n",
       "  ('a deep learning approach', 0.005956780953388022),\n",
       "  ('deep learning models', 0.005956780953388022),\n",
       "  ('health monitoring', 0.005956780953388022),\n",
       "  ('healthcare', 0.005789865785475939),\n",
       "  ('big data', 0.003500342595736673),\n",
       "  ('the state', 0.0034781376931350937)],\n",
       " [('challenges', 0.12259873382515883),\n",
       "  ('sparsity', 0.06980506103416743),\n",
       "  ('image retrieval', 0.05877238252081593),\n",
       "  ('opportunities', 0.035104234935772985),\n",
       "  ('big data', 0.030952420308656726),\n",
       "  ('machine', 0.024298028832652904),\n",
       "  ('parts', 0.024298028832652863),\n",
       "  ('classification algorithms', 0.024298024517606313),\n",
       "  ('ultimate bearing capacity', 0.02429801113300784),\n",
       "  ('neuroscience', 0.02420130774595929),\n",
       "  ('domain adaptation', 0.024201303426009905),\n",
       "  ('convolutional neural', 0.02420130333417195),\n",
       "  ('action recognition', 0.0240692090351373),\n",
       "  ('a review', 0.01856609943728661),\n",
       "  ('a survey', 0.018045978053987884),\n",
       "  ('object detection', 0.013338831520485511),\n",
       "  ('optimization', 0.013338831520485511),\n",
       "  ('modelling', 0.013338831520485511),\n",
       "  ('approaches', 0.013338831520485511),\n",
       "  ('uavs', 0.0133388315204855)]]"
      ]
     },
     "execution_count": 203,
     "metadata": {},
     "output_type": "execute_result"
    }
   ],
   "source": [
    "from gensim.models import LdaSeqModel\n",
    "#use LdaSeqModel to generate DTM results\n",
    "#ldaseq = LdaSeqModel(corpus=corpus_memory_friendly, id2word=dictionary, time_slice=time_slice, num_topics=5)\n",
    "ldaseq = LdaSeqModel(corpus=corpus_memory_friendly, id2word=dictionary, time_slice=time_slice, num_topics=12)\n",
    "# for given time, the distriibution of each topic \n",
    "ldaseq.print_topics(time=1)\n",
    "# for given topic the word distribution over time\n"
   ]
  },
  {
   "cell_type": "code",
   "execution_count": 185,
   "metadata": {},
   "outputs": [],
   "source": [
    "DTM_topic_0=ldaseq.print_topic_times(topic=0, top_terms=10)\n",
    "DTM_topic_1=ldaseq.print_topic_times(topic=1, top_terms=10)\n",
    "DTM_topic_2=ldaseq.print_topic_times(topic=2, top_terms=10)\n",
    "DTM_topic_3=ldaseq.print_topic_times(topic=3, top_terms=10)\n",
    "DTM_topic_4=ldaseq.print_topic_times(topic=4, top_terms=10)\n",
    "DTM_topic_5=ldaseq.print_topic_times(topic=5, top_terms=10)\n",
    "DTM_topic_6=ldaseq.print_topic_times(topic=6, top_terms=10)\n",
    "DTM_topic_7=ldaseq.print_topic_times(topic=7, top_terms=10)\n",
    "DTM_topic_8=ldaseq.print_topic_times(topic=8, top_terms=10)\n",
    "DTM_topic_9=ldaseq.print_topic_times(topic=9, top_terms=10)\n",
    "DTM_topic_10=ldaseq.print_topic_times(topic=10, top_terms=10)\n"
   ]
  },
  {
   "cell_type": "code",
   "execution_count": 186,
   "metadata": {},
   "outputs": [],
   "source": [
    "def topic_time(DTM_topic,time_stamps):  \n",
    "    for i in range(len(time_slice)-1):\n",
    "        if i==0:\n",
    "            temp_a1=pd.DataFrame(DTM_topic[i])\n",
    "            temp_a2=pd.DataFrame(DTM_topic[i+1])\n",
    "            temp_a1.columns = ['words', time_stamps[i]]\n",
    "            temp_a2.columns = ['words', time_stamps[i+1]]\n",
    "            temp_a1=pd.merge(temp_a1,temp_a2)\n",
    "        else:\n",
    "            temp_a2=pd.DataFrame(DTM_topic[i+1])\n",
    "            temp_a2.columns = ['words', time_stamps[i+1]]\n",
    "            temp_a1=pd.merge(temp_a1,temp_a2)\n",
    "    topic_words_time=temp_a1\n",
    "    return topic_words_time\n",
    "   \n",
    "topic1_words_time=topic_time(DTM_topic_0,time_stamps)\n",
    "topic2_words_time=topic_time(DTM_topic_1,time_stamps)\n",
    "topic3_words_time=topic_time(DTM_topic_2,time_stamps)\n",
    "topic4_words_time=topic_time(DTM_topic_3,time_stamps)\n",
    "topic5_words_time=topic_time(DTM_topic_4,time_stamps)\n",
    "topic6_words_time=topic_time(DTM_topic_5,time_stamps)\n",
    "topic7_words_time=topic_time(DTM_topic_6,time_stamps)\n",
    "topic8_words_time=topic_time(DTM_topic_7,time_stamps)\n",
    "topic9_words_time=topic_time(DTM_topic_8,time_stamps)\n",
    "topic10_words_time=topic_time(DTM_topic_9,time_stamps)\n",
    "topic11_words_time=topic_time(DTM_topic_10,time_stamps)\n",
    "topic12_words_time=topic_time(DTM_topic_11,time_stamps)"
   ]
  },
  {
   "cell_type": "code",
   "execution_count": 187,
   "metadata": {},
   "outputs": [
    {
     "name": "stdout",
     "output_type": "stream",
     "text": [
      "                     words      2011      2012      2013      2014      2015  \\\n",
      "0              the authors  0.014815  0.014903  0.014989  0.015047  0.015104   \n",
      "1               this paper  0.014749  0.014828  0.014894  0.014917  0.014933   \n",
      "2               this study  0.012600  0.012542  0.012478  0.012447  0.012414   \n",
      "3                  the use  0.012428  0.012492  0.012552  0.012646  0.012738   \n",
      "4  artificial intelligence  0.012125  0.012170  0.012205  0.012207  0.012206   \n",
      "5                 students  0.011757  0.011816  0.011870  0.011955  0.012035   \n",
      "6            the potential  0.011214  0.011267  0.011317  0.011393  0.011467   \n",
      "7               technology  0.010573  0.010621  0.010666  0.010734  0.010800   \n",
      "8               algorithms  0.009982  0.010025  0.010065  0.010124  0.010183   \n",
      "9                     they  0.009359  0.009397  0.009431  0.009483  0.009534   \n",
      "\n",
      "       2016      2017      2018      2019      2020      2021  \n",
      "0  0.015173  0.015301  0.015578  0.015557  0.015676  0.015747  \n",
      "1  0.014927  0.014797  0.014798  0.014918  0.014924  0.014918  \n",
      "2  0.012389  0.012388  0.012355  0.012324  0.012297  0.012316  \n",
      "3  0.012780  0.012861  0.013044  0.013038  0.013026  0.013026  \n",
      "4  0.012209  0.012224  0.012200  0.012283  0.012352  0.012350  \n",
      "5  0.011890  0.011772  0.011458  0.011309  0.011266  0.011263  \n",
      "6  0.011488  0.011467  0.011335  0.011189  0.011144  0.011142  \n",
      "7  0.010873  0.010972  0.010992  0.011016  0.010972  0.010967  \n",
      "8  0.010245  0.010236  0.010183  0.010197  0.010284  0.010283  \n",
      "9  0.009590  0.009614  0.009664  0.009612  0.009627  0.009625  \n"
     ]
    }
   ],
   "source": [
    "print(topic1_words_time)"
   ]
  },
  {
   "cell_type": "code",
   "execution_count": 161,
   "metadata": {},
   "outputs": [
    {
     "data": {
      "image/png": "[encoded data removed]",
      "text/plain": [
       "<Figure size 432x288 with 1 Axes>"
      ]
     },
     "metadata": {
      "needs_background": "light"
     },
     "output_type": "display_data"
    }
   ],
   "source": [
    "#plot the dynamic movement of topic 1\n",
    "topic1_words=list(topic1_words_time['words'])\n",
    "plt.figure()\n",
    "for i in range(0,5):\n",
    "    plt.plot(time_stamps, topic1_words_time.iloc[i,1:],marker=\".\",label=topic1_words[i])\n",
    "#plt.xlim((-1, 2))\n",
    "#plt.ylim((0, 0.02))\n",
    "plt.legend(loc='best')\n",
    "plt.title('Topic 1')\n",
    "plt.savefig('Topic4-1.png',transparent=True)\n",
    "plt.rcParams.update({'font.size': 15})     #设置图例字体大小\n",
    "plt.show()"
   ]
  },
  {
   "cell_type": "code",
   "execution_count": 162,
   "metadata": {},
   "outputs": [
    {
     "data": {
      "image/png": "[encoded data removed]",
      "text/plain": [
       "<Figure size 432x288 with 1 Axes>"
      ]
     },
     "metadata": {
      "needs_background": "light"
     },
     "output_type": "display_data"
    }
   ],
   "source": [
    "#plot the dynamic movement of topic2\n",
    "topic=topic2_words_time\n",
    "topic_words=list(topic['words'])\n",
    "plt.figure()\n",
    "for i in range(0,5):\n",
    "    plt.plot(time_stamps, topic.iloc[i,1:],marker=\".\",label=topic_words[i])\n",
    "#plt.xlim((-1, 2))\n",
    "#plt.ylim((0, 0.02))\n",
    "plt.legend(loc='best')\n",
    "plt.title('Topic 2')\n",
    "plt.rcParams.update({'font.size': 15})     #设置图例字体大小\n",
    "plt.savefig('Topic4-2.png',transparent=True)\n",
    "plt.show()"
   ]
  },
  {
   "cell_type": "code",
   "execution_count": 163,
   "metadata": {},
   "outputs": [
    {
     "data": {
      "image/png": "[encoded data removed]",
      "text/plain": [
       "<Figure size 432x288 with 1 Axes>"
      ]
     },
     "metadata": {
      "needs_background": "light"
     },
     "output_type": "display_data"
    }
   ],
   "source": [
    "\n",
    "#plot the dynamic movement of topic3\n",
    "topic=topic3_words_time\n",
    "topic_words=list(topic['words'])\n",
    "plt.figure()\n",
    "for i in range(0,5):\n",
    "    plt.plot(time_stamps, topic.iloc[i,1:],marker=\".\",label=topic_words[i])\n",
    "#plt.xlim((-1, 2))\n",
    "#plt.ylim((0, 0.02))\n",
    "plt.legend(loc='best')\n",
    "plt.rcParams.update({'font.size': 15})     #设置图例字体大小\n",
    "plt.title('Topic 3')\n",
    "plt.savefig('Topic4-3.png',transparent=True)\n",
    "plt.show()"
   ]
  },
  {
   "cell_type": "code",
   "execution_count": 164,
   "metadata": {},
   "outputs": [
    {
     "data": {
      "image/png": "[encoded data removed]",
      "text/plain": [
       "<Figure size 432x288 with 1 Axes>"
      ]
     },
     "metadata": {
      "needs_background": "light"
     },
     "output_type": "display_data"
    }
   ],
   "source": [
    "#plot the dynamic movement of topic4\n",
    "topic=topic4_words_time\n",
    "topic_words=list(topic['words'])\n",
    "plt.figure()\n",
    "for i in range(0,5):\n",
    "    plt.plot(time_stamps, topic.iloc[i,1:],marker=\".\",label=topic_words[i])\n",
    "#plt.xlim((-1, 2))\n",
    "#plt.ylim((0, 0.02))\n",
    "plt.legend(loc='best')\n",
    "plt.title('Topic 4')\n",
    "plt.rcParams.update({'font.size': 15})     #设置图例字体大小\n",
    "plt.savefig('Topic4-4.png',transparent=True)\n",
    "plt.show()"
   ]
  },
  {
   "cell_type": "code",
   "execution_count": 165,
   "metadata": {},
   "outputs": [
    {
     "data": {
      "image/png": "[encoded data removed]",
      "text/plain": [
       "<Figure size 432x288 with 1 Axes>"
      ]
     },
     "metadata": {
      "needs_background": "light"
     },
     "output_type": "display_data"
    }
   ],
   "source": [
    "#plot the dynamic movement of topic4\n",
    "topic=topic5_words_time\n",
    "topic_words=list(topic['words'])\n",
    "plt.figure()\n",
    "for i in range(0,5):\n",
    "    plt.plot(time_stamps, topic.iloc[i,1:],marker=\".\",label=topic_words[i])\n",
    "#plt.xlim((-1, 2))\n",
    "#plt.ylim((0, 0.02))\n",
    "plt.legend(loc='best')\n",
    "plt.title('Topic 5')\n",
    "plt.rcParams.update({'font.size': 15})     #设置图例字体大小\n",
    "plt.savefig('Topic4-5.png',transparent=True)\n",
    "plt.show()"
   ]
  },
  {
   "cell_type": "code",
   "execution_count": 166,
   "metadata": {},
   "outputs": [
    {
     "data": {
      "image/png": "[encoded data removed]",
      "text/plain": [
       "<Figure size 432x288 with 1 Axes>"
      ]
     },
     "metadata": {
      "needs_background": "light"
     },
     "output_type": "display_data"
    }
   ],
   "source": [
    "#plot the dynamic movement of topic4\n",
    "topic=topic6_words_time\n",
    "topic_words=list(topic['words'])\n",
    "plt.figure()\n",
    "for i in range(0,5):\n",
    "    plt.plot(time_stamps, topic.iloc[i,1:],marker=\".\",label=topic_words[i])\n",
    "#plt.xlim((-1, 2))\n",
    "#plt.ylim((0, 0.02))\n",
    "plt.legend(loc='best')\n",
    "plt.title('Topic 6')\n",
    "plt.rcParams.update({'font.size': 15})     #设置图例字体大小\n",
    "plt.savefig('Topic4-6.png',transparent=True)\n",
    "plt.show()"
   ]
  },
  {
   "cell_type": "code",
   "execution_count": null,
   "metadata": {},
   "outputs": [],
   "source": []
  }
 ],
 "metadata": {
  "kernelspec": {
   "display_name": "Python 3",
   "language": "python",
   "name": "python3"
  },
  "language_info": {
   "codemirror_mode": {
    "name": "ipython",
    "version": 3
   },
   "file_extension": ".py",
   "mimetype": "text/x-python",
   "name": "python",
   "nbconvert_exporter": "python",
   "pygments_lexer": "ipython3",
   "version": "3.8.5"
  }
 },
 "nbformat": 4,
 "nbformat_minor": 4
}
